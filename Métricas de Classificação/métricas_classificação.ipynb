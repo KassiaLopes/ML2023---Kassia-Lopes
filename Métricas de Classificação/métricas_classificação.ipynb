{
 "cells": [
  {
   "cell_type": "markdown",
   "id": "f4018612",
   "metadata": {},
   "source": [
    "## Métricas de Classificação"
   ]
  },
  {
   "cell_type": "markdown",
   "id": "75a7cb6b",
   "metadata": {},
   "source": [
    "### Implementação das métricas accuracy, precision,recall e  f1_measure usando o dataset Iris\n",
    "\n"
   ]
  },
  {
   "cell_type": "code",
   "execution_count": 49,
   "id": "9a3cbe75",
   "metadata": {},
   "outputs": [],
   "source": [
    "import pandas as pd\n",
    "import sklearn as sk\n",
    "from sklearn import linear_model\n",
    "from sklearn.model_selection import train_test_split\n",
    "from sklearn import metrics\n",
    "from sklearn import preprocessing\n",
    "import matplotlib.pyplot as plt"
   ]
  },
  {
   "cell_type": "code",
   "execution_count": 28,
   "id": "717314e5",
   "metadata": {},
   "outputs": [],
   "source": [
    "data = pd.read_table('/home/kassia/UFC/ML/metricas de classificacao/iris.data', delimiter=',', header=0)\n"
   ]
  },
  {
   "cell_type": "code",
   "execution_count": 29,
   "id": "7baea64a",
   "metadata": {},
   "outputs": [
    {
     "data": {
      "text/html": [
       "<div>\n",
       "<style scoped>\n",
       "    .dataframe tbody tr th:only-of-type {\n",
       "        vertical-align: middle;\n",
       "    }\n",
       "\n",
       "    .dataframe tbody tr th {\n",
       "        vertical-align: top;\n",
       "    }\n",
       "\n",
       "    .dataframe thead th {\n",
       "        text-align: right;\n",
       "    }\n",
       "</style>\n",
       "<table border=\"1\" class=\"dataframe\">\n",
       "  <thead>\n",
       "    <tr style=\"text-align: right;\">\n",
       "      <th></th>\n",
       "      <th>5.1</th>\n",
       "      <th>3.5</th>\n",
       "      <th>1.4</th>\n",
       "      <th>0.2</th>\n",
       "      <th>Iris-setosa</th>\n",
       "    </tr>\n",
       "  </thead>\n",
       "  <tbody>\n",
       "    <tr>\n",
       "      <th>0</th>\n",
       "      <td>4.9</td>\n",
       "      <td>3.0</td>\n",
       "      <td>1.4</td>\n",
       "      <td>0.2</td>\n",
       "      <td>Iris-setosa</td>\n",
       "    </tr>\n",
       "    <tr>\n",
       "      <th>1</th>\n",
       "      <td>4.7</td>\n",
       "      <td>3.2</td>\n",
       "      <td>1.3</td>\n",
       "      <td>0.2</td>\n",
       "      <td>Iris-setosa</td>\n",
       "    </tr>\n",
       "    <tr>\n",
       "      <th>2</th>\n",
       "      <td>4.6</td>\n",
       "      <td>3.1</td>\n",
       "      <td>1.5</td>\n",
       "      <td>0.2</td>\n",
       "      <td>Iris-setosa</td>\n",
       "    </tr>\n",
       "    <tr>\n",
       "      <th>3</th>\n",
       "      <td>5.0</td>\n",
       "      <td>3.6</td>\n",
       "      <td>1.4</td>\n",
       "      <td>0.2</td>\n",
       "      <td>Iris-setosa</td>\n",
       "    </tr>\n",
       "    <tr>\n",
       "      <th>4</th>\n",
       "      <td>5.4</td>\n",
       "      <td>3.9</td>\n",
       "      <td>1.7</td>\n",
       "      <td>0.4</td>\n",
       "      <td>Iris-setosa</td>\n",
       "    </tr>\n",
       "  </tbody>\n",
       "</table>\n",
       "</div>"
      ],
      "text/plain": [
       "   5.1  3.5  1.4  0.2  Iris-setosa\n",
       "0  4.9  3.0  1.4  0.2  Iris-setosa\n",
       "1  4.7  3.2  1.3  0.2  Iris-setosa\n",
       "2  4.6  3.1  1.5  0.2  Iris-setosa\n",
       "3  5.0  3.6  1.4  0.2  Iris-setosa\n",
       "4  5.4  3.9  1.7  0.4  Iris-setosa"
      ]
     },
     "execution_count": 29,
     "metadata": {},
     "output_type": "execute_result"
    }
   ],
   "source": [
    "data.head()"
   ]
  },
  {
   "cell_type": "code",
   "execution_count": 30,
   "id": "9c67b66a",
   "metadata": {},
   "outputs": [],
   "source": [
    "x = data.iloc[:,:-1].values\n",
    "y = data.iloc[:,-1].values"
   ]
  },
  {
   "cell_type": "markdown",
   "id": "3de6cbf2",
   "metadata": {},
   "source": [
    "Divisão do dataset em treino(10%) e teste(90%):"
   ]
  },
  {
   "cell_type": "code",
   "execution_count": 33,
   "id": "0c5746b1",
   "metadata": {},
   "outputs": [],
   "source": [
    "x_train, x_test, y_train, y_test = train_test_split(x,y,test_size=0.9,random_state=51)"
   ]
  },
  {
   "cell_type": "markdown",
   "id": "33613cee",
   "metadata": {},
   "source": [
    "Standardização dos dados: "
   ]
  },
  {
   "cell_type": "code",
   "execution_count": 35,
   "id": "c0789d34",
   "metadata": {},
   "outputs": [],
   "source": [
    "std = preprocessing.StandardScaler()\n",
    "x_tr_std = std.fit_transform(x_train)\n",
    "x_te_std = std.transform(x_test)"
   ]
  },
  {
   "cell_type": "markdown",
   "id": "87ccd190",
   "metadata": {},
   "source": [
    "Criação do modelo preditivo usando LogisticRegression:"
   ]
  },
  {
   "cell_type": "code",
   "execution_count": 36,
   "id": "e34acf1a",
   "metadata": {},
   "outputs": [
    {
     "data": {
      "text/plain": [
       "LogisticRegression()"
      ]
     },
     "execution_count": 36,
     "metadata": {},
     "output_type": "execute_result"
    }
   ],
   "source": [
    "modelo = linear_model.LogisticRegression(multi_class='auto', solver='lbfgs')\n",
    "modelo.fit(x_train,y_train)"
   ]
  },
  {
   "cell_type": "code",
   "execution_count": 41,
   "id": "9072aeaa",
   "metadata": {},
   "outputs": [],
   "source": [
    "y_pred = modelo.predict(x_te_std)"
   ]
  },
  {
   "cell_type": "markdown",
   "id": "56b839c7",
   "metadata": {},
   "source": [
    "    Criando matriz de confusão"
   ]
  },
  {
   "cell_type": "code",
   "execution_count": 38,
   "id": "122e193a",
   "metadata": {},
   "outputs": [
    {
     "data": {
      "text/plain": [
       "array([[44,  0,  0],\n",
       "       [46,  0,  0],\n",
       "       [45,  0,  0]])"
      ]
     },
     "execution_count": 38,
     "metadata": {},
     "output_type": "execute_result"
    }
   ],
   "source": [
    "metrics.confusion_matrix(y_test, y_pred)"
   ]
  },
  {
   "cell_type": "markdown",
   "id": "75bd8a7b",
   "metadata": {},
   "source": [
    "    Cálculo das métricas"
   ]
  },
  {
   "cell_type": "code",
   "execution_count": 39,
   "id": "0ebe57af",
   "metadata": {},
   "outputs": [
    {
     "data": {
      "text/plain": [
       "0.32592592592592595"
      ]
     },
     "execution_count": 39,
     "metadata": {},
     "output_type": "execute_result"
    }
   ],
   "source": [
    "metrics.accuracy_score(y_test, y_pred)"
   ]
  },
  {
   "cell_type": "code",
   "execution_count": 40,
   "id": "4f8fd9d8",
   "metadata": {},
   "outputs": [
    {
     "name": "stderr",
     "output_type": "stream",
     "text": [
      "/home/kassia/anaconda3/lib/python3.9/site-packages/sklearn/metrics/_classification.py:1318: UndefinedMetricWarning: Precision is ill-defined and being set to 0.0 in labels with no predicted samples. Use `zero_division` parameter to control this behavior.\n",
      "  _warn_prf(average, modifier, msg_start, len(result))\n"
     ]
    },
    {
     "data": {
      "text/plain": [
       "0.10622770919067216"
      ]
     },
     "execution_count": 40,
     "metadata": {},
     "output_type": "execute_result"
    }
   ],
   "source": [
    "metrics.precision_score(y_test, y_pred, average='weighted')"
   ]
  },
  {
   "cell_type": "code",
   "execution_count": 42,
   "id": "52817038",
   "metadata": {},
   "outputs": [
    {
     "data": {
      "text/plain": [
       "0.32592592592592595"
      ]
     },
     "execution_count": 42,
     "metadata": {},
     "output_type": "execute_result"
    }
   ],
   "source": [
    "metrics.recall_score(y_test, y_pred, average='weighted')"
   ]
  },
  {
   "cell_type": "code",
   "execution_count": 44,
   "id": "c4db460f",
   "metadata": {},
   "outputs": [
    {
     "data": {
      "text/plain": [
       "0.16023174012000826"
      ]
     },
     "execution_count": 44,
     "metadata": {},
     "output_type": "execute_result"
    }
   ],
   "source": [
    "metrics.f1_score(y_test, y_pred, average='weighted')"
   ]
  },
  {
   "cell_type": "markdown",
   "id": "e6bbcf9f",
   "metadata": {},
   "source": [
    "    Obtendo o y_score"
   ]
  },
  {
   "cell_type": "code",
   "execution_count": 45,
   "id": "96977baf",
   "metadata": {},
   "outputs": [],
   "source": [
    "y_score = modelo.predict_proba(x_te_std)"
   ]
  },
  {
   "cell_type": "markdown",
   "id": "3116f0f4",
   "metadata": {},
   "source": [
    "    Gráfico da curva ROC"
   ]
  },
  {
   "cell_type": "code",
   "execution_count": 47,
   "id": "e72651f6",
   "metadata": {},
   "outputs": [],
   "source": [
    "fpr, tpr, thresholds = metrics.roc_curve(y_test, y_score[:,1], pos_label='Iris-virginica')"
   ]
  },
  {
   "cell_type": "code",
   "execution_count": 51,
   "id": "e6da2b5d",
   "metadata": {
    "scrolled": true
   },
   "outputs": [
    {
     "data": {
      "image/png": "[encoded data removed]",
      "text/plain": [
       "<Figure size 640x480 with 1 Axes>"
      ]
     },
     "metadata": {},
     "output_type": "display_data"
    }
   ],
   "source": [
    "plt.plot([0, 1], [0, 1], '--')\n",
    "plt.plot(fpr, tpr);"
   ]
  }
 ],
 "metadata": {
  "kernelspec": {
   "display_name": "Python 3 (ipykernel)",
   "language": "python",
   "name": "python3"
  },
  "language_info": {
   "codemirror_mode": {
    "name": "ipython",
    "version": 3
   },
   "file_extension": ".py",
   "mimetype": "text/x-python",
   "name": "python",
   "nbconvert_exporter": "python",
   "pygments_lexer": "ipython3",
   "version": "3.9.13"
  }
 },
 "nbformat": 4,
 "nbformat_minor": 5
}
