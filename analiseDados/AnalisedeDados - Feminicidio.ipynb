{
 "cells": [
  {
   "cell_type": "markdown",
   "id": "628d28a6",
   "metadata": {},
   "source": [
    "## Análise de Dados - Casos de Feminicidio na Cidade de São Paulo nos anos de 2015, 2020 e 2021"
   ]
  },
  {
   "cell_type": "code",
   "execution_count": 2,
   "id": "4a9166d5",
   "metadata": {},
   "outputs": [],
   "source": [
    "import pandas as pd\n",
    "import numpy as np\n"
   ]
  },
  {
   "cell_type": "code",
   "execution_count": 3,
   "id": "6d7dc43b",
   "metadata": {},
   "outputs": [],
   "source": [
    "import matplotlib.pyplot as plt"
   ]
  },
  {
   "cell_type": "markdown",
   "id": "5b31d215",
   "metadata": {},
   "source": [
    "Leitura dos dados do ano de 2015. No total, foram registrados 41 casos de feminicídio."
   ]
  },
  {
   "cell_type": "code",
   "execution_count": 4,
   "id": "d9f7eadf",
   "metadata": {},
   "outputs": [],
   "source": [
    "df2015 = pd.read_excel(\"/home/kassia/UFC/ML/Analise de Dados/Feminicidio_2015_2022.xlsx\")"
   ]
  },
  {
   "cell_type": "code",
   "execution_count": 5,
   "id": "c2315651",
   "metadata": {
    "scrolled": false
   },
   "outputs": [
    {
     "data": {
      "text/html": [
       "<div>\n",
       "<style scoped>\n",
       "    .dataframe tbody tr th:only-of-type {\n",
       "        vertical-align: middle;\n",
       "    }\n",
       "\n",
       "    .dataframe tbody tr th {\n",
       "        vertical-align: top;\n",
       "    }\n",
       "\n",
       "    .dataframe thead th {\n",
       "        text-align: right;\n",
       "    }\n",
       "</style>\n",
       "<table border=\"1\" class=\"dataframe\">\n",
       "  <thead>\n",
       "    <tr style=\"text-align: right;\">\n",
       "      <th></th>\n",
       "      <th>DEPARTAMENTO_CIRCUNSCRICAO</th>\n",
       "      <th>SECCIONAL_CIRCUNSCRICAO</th>\n",
       "      <th>MUNICIPIO_CIRCUNSCRICAO</th>\n",
       "      <th>DP_CIRCUNSCRICAO</th>\n",
       "      <th>HD</th>\n",
       "      <th>Nº DE VÍT HD</th>\n",
       "      <th>ID_DELEGACIA</th>\n",
       "      <th>MÊS ESTATISTICA</th>\n",
       "      <th>ANO ESTATISTICA</th>\n",
       "      <th>DATAHORA_REGISTRO_BO</th>\n",
       "      <th>...</th>\n",
       "      <th>LATITUDE</th>\n",
       "      <th>LONGITUDE</th>\n",
       "      <th>TIPO_PESSOA</th>\n",
       "      <th>SEXO_PESSOA</th>\n",
       "      <th>IDADE_PESSOA</th>\n",
       "      <th>DATA_NASCIMENTO_PESSOA</th>\n",
       "      <th>COR_PELE</th>\n",
       "      <th>PROFISSAO</th>\n",
       "      <th>NATUREZA_APURADA</th>\n",
       "      <th>DESDOBRAMENTO</th>\n",
       "    </tr>\n",
       "  </thead>\n",
       "  <tbody>\n",
       "    <tr>\n",
       "      <th>0</th>\n",
       "      <td>DEINTER 3</td>\n",
       "      <td>SEC Bebedouro</td>\n",
       "      <td>Viradouro</td>\n",
       "      <td>DM - Viradouro</td>\n",
       "      <td>1</td>\n",
       "      <td>1</td>\n",
       "      <td>100215</td>\n",
       "      <td>4</td>\n",
       "      <td>2015</td>\n",
       "      <td>2015-04-27 20:05:42</td>\n",
       "      <td>...</td>\n",
       "      <td>NaN</td>\n",
       "      <td>NaN</td>\n",
       "      <td>Vítima</td>\n",
       "      <td>Feminino</td>\n",
       "      <td>54</td>\n",
       "      <td>1960-06-11</td>\n",
       "      <td>Parda</td>\n",
       "      <td>FAXINEIRO(A)</td>\n",
       "      <td>HOMICÍDIO DOLOSO</td>\n",
       "      <td>Feminicídio-contra a mulher por razões da cond...</td>\n",
       "    </tr>\n",
       "    <tr>\n",
       "      <th>1</th>\n",
       "      <td>DEINTER 2</td>\n",
       "      <td>SEC Jundiaí</td>\n",
       "      <td>Itupeva</td>\n",
       "      <td>DM - Itupeva</td>\n",
       "      <td>1</td>\n",
       "      <td>1</td>\n",
       "      <td>70404</td>\n",
       "      <td>4</td>\n",
       "      <td>2015</td>\n",
       "      <td>2015-04-12 10:36:18</td>\n",
       "      <td>...</td>\n",
       "      <td>NaN</td>\n",
       "      <td>NaN</td>\n",
       "      <td>Vítima</td>\n",
       "      <td>Feminino</td>\n",
       "      <td>44</td>\n",
       "      <td>1970-04-16</td>\n",
       "      <td>Branca</td>\n",
       "      <td>COSTUREIRO(A)</td>\n",
       "      <td>HOMICÍDIO DOLOSO</td>\n",
       "      <td>Feminicídio-contra a mulher por razões da cond...</td>\n",
       "    </tr>\n",
       "    <tr>\n",
       "      <th>2</th>\n",
       "      <td>DEINTER 1</td>\n",
       "      <td>SEC São Sebastião</td>\n",
       "      <td>Ubatuba</td>\n",
       "      <td>DM - Ubatuba</td>\n",
       "      <td>1</td>\n",
       "      <td>1</td>\n",
       "      <td>40304</td>\n",
       "      <td>4</td>\n",
       "      <td>2015</td>\n",
       "      <td>2015-04-18 20:23:50</td>\n",
       "      <td>...</td>\n",
       "      <td>NaN</td>\n",
       "      <td>NaN</td>\n",
       "      <td>Vítima</td>\n",
       "      <td>Feminino</td>\n",
       "      <td>37</td>\n",
       "      <td>1977-07-08</td>\n",
       "      <td>Parda</td>\n",
       "      <td>AJUDANTE</td>\n",
       "      <td>HOMICÍDIO DOLOSO</td>\n",
       "      <td>Feminicídio-contra a mulher por razões da cond...</td>\n",
       "    </tr>\n",
       "    <tr>\n",
       "      <th>3</th>\n",
       "      <td>DECAP</td>\n",
       "      <td>8ª SEC</td>\n",
       "      <td>São Paulo</td>\n",
       "      <td>049 DP - São Mateus</td>\n",
       "      <td>1</td>\n",
       "      <td>1</td>\n",
       "      <td>20249</td>\n",
       "      <td>4</td>\n",
       "      <td>2015</td>\n",
       "      <td>2015-04-25 00:40:09</td>\n",
       "      <td>...</td>\n",
       "      <td>NaN</td>\n",
       "      <td>NaN</td>\n",
       "      <td>Vítima</td>\n",
       "      <td>Feminino</td>\n",
       "      <td>17</td>\n",
       "      <td>1997-12-31</td>\n",
       "      <td>Branca</td>\n",
       "      <td>ESTUDANTE</td>\n",
       "      <td>HOMICÍDIO DOLOSO</td>\n",
       "      <td>Feminicídio-contra a mulher por razões da cond...</td>\n",
       "    </tr>\n",
       "    <tr>\n",
       "      <th>4</th>\n",
       "      <td>DEMACRO</td>\n",
       "      <td>SEC Mogi das Cruzes</td>\n",
       "      <td>Suzano</td>\n",
       "      <td>DM - Suzano</td>\n",
       "      <td>1</td>\n",
       "      <td>1</td>\n",
       "      <td>30309</td>\n",
       "      <td>5</td>\n",
       "      <td>2015</td>\n",
       "      <td>2015-05-16 14:37:19</td>\n",
       "      <td>...</td>\n",
       "      <td>NaN</td>\n",
       "      <td>NaN</td>\n",
       "      <td>Vítima</td>\n",
       "      <td>Feminino</td>\n",
       "      <td>20</td>\n",
       "      <td>1994-07-22</td>\n",
       "      <td>Branca</td>\n",
       "      <td>PRENDAS DOMESTICAS</td>\n",
       "      <td>HOMICÍDIO DOLOSO</td>\n",
       "      <td>Feminicídio-contra a mulher por razões da cond...</td>\n",
       "    </tr>\n",
       "  </tbody>\n",
       "</table>\n",
       "<p>5 rows × 31 columns</p>\n",
       "</div>"
      ],
      "text/plain": [
       "  DEPARTAMENTO_CIRCUNSCRICAO SECCIONAL_CIRCUNSCRICAO MUNICIPIO_CIRCUNSCRICAO  \\\n",
       "0                  DEINTER 3           SEC Bebedouro               Viradouro   \n",
       "1                  DEINTER 2             SEC Jundiaí                 Itupeva   \n",
       "2                  DEINTER 1       SEC São Sebastião                 Ubatuba   \n",
       "3                      DECAP                  8ª SEC               São Paulo   \n",
       "4                    DEMACRO     SEC Mogi das Cruzes                  Suzano   \n",
       "\n",
       "     DP_CIRCUNSCRICAO  HD  Nº DE VÍT HD  ID_DELEGACIA  MÊS ESTATISTICA  \\\n",
       "0       DM - Viradouro  1             1        100215                4   \n",
       "1         DM - Itupeva  1             1         70404                4   \n",
       "2         DM - Ubatuba  1             1         40304                4   \n",
       "3  049 DP - São Mateus  1             1         20249                4   \n",
       "4          DM - Suzano  1             1         30309                5   \n",
       "\n",
       "   ANO ESTATISTICA DATAHORA_REGISTRO_BO  ...  LATITUDE  LONGITUDE TIPO_PESSOA  \\\n",
       "0             2015  2015-04-27 20:05:42  ...       NaN        NaN      Vítima   \n",
       "1             2015  2015-04-12 10:36:18  ...       NaN        NaN      Vítima   \n",
       "2             2015  2015-04-18 20:23:50  ...       NaN        NaN      Vítima   \n",
       "3             2015  2015-04-25 00:40:09  ...       NaN        NaN      Vítima   \n",
       "4             2015  2015-05-16 14:37:19  ...       NaN        NaN      Vítima   \n",
       "\n",
       "  SEXO_PESSOA IDADE_PESSOA DATA_NASCIMENTO_PESSOA COR_PELE  \\\n",
       "0    Feminino           54             1960-06-11    Parda   \n",
       "1    Feminino           44             1970-04-16   Branca   \n",
       "2    Feminino           37             1977-07-08    Parda   \n",
       "3    Feminino           17             1997-12-31   Branca   \n",
       "4    Feminino           20             1994-07-22   Branca   \n",
       "\n",
       "            PROFISSAO  NATUREZA_APURADA  \\\n",
       "0        FAXINEIRO(A)  HOMICÍDIO DOLOSO   \n",
       "1       COSTUREIRO(A)  HOMICÍDIO DOLOSO   \n",
       "2            AJUDANTE  HOMICÍDIO DOLOSO   \n",
       "3           ESTUDANTE  HOMICÍDIO DOLOSO   \n",
       "4  PRENDAS DOMESTICAS  HOMICÍDIO DOLOSO   \n",
       "\n",
       "                                       DESDOBRAMENTO  \n",
       "0  Feminicídio-contra a mulher por razões da cond...  \n",
       "1  Feminicídio-contra a mulher por razões da cond...  \n",
       "2  Feminicídio-contra a mulher por razões da cond...  \n",
       "3  Feminicídio-contra a mulher por razões da cond...  \n",
       "4  Feminicídio-contra a mulher por razões da cond...  \n",
       "\n",
       "[5 rows x 31 columns]"
      ]
     },
     "execution_count": 5,
     "metadata": {},
     "output_type": "execute_result"
    }
   ],
   "source": [
    "df2015.head()\n"
   ]
  },
  {
   "cell_type": "markdown",
   "id": "ce2b9109",
   "metadata": {},
   "source": [
    "Filtragem dos casos ocorridos na cidade de São Paulo"
   ]
  },
  {
   "cell_type": "code",
   "execution_count": 6,
   "id": "9ec8d118",
   "metadata": {},
   "outputs": [],
   "source": [
    "df2015=df2015[df2015['MUNICIPIO_CIRCUNSCRICAO']==\"São Paulo\"]"
   ]
  },
  {
   "cell_type": "markdown",
   "id": "5869c9d3",
   "metadata": {},
   "source": [
    "Exclusão das colunas que não serão utilizados na análise"
   ]
  },
  {
   "cell_type": "code",
   "execution_count": 7,
   "id": "be0897ef",
   "metadata": {},
   "outputs": [],
   "source": [
    "df2015 = df2015.drop(columns=['DEPARTAMENTO_CIRCUNSCRICAO','SECCIONAL_CIRCUNSCRICAO','HD','Nº DE VÍT HD','ID_DELEGACIA',\n",
    "                         'NUM_BO','ANO_BO','MUNICIPIO_ELABORACAO','DP_ELABORACAO','SEC_ELABORACAO','DEP_ELABORACAO',\n",
    "                          'LATITUDE','LONGITUDE','TIPO_PESSOA','SEXO_PESSOA','DATA_NASCIMENTO_PESSOA','LOGRADOURO','NUMERO_LOGRADOURO',\n",
    "                          'SEC_ELABORACAO','DEP_ELABORACAO','LOGRADOURO','NUMERO_LOGRADOURO','NATUREZA_APURADA','DESDOBRAMENTO'])"
   ]
  },
  {
   "cell_type": "code",
   "execution_count": 8,
   "id": "2c7d6f70",
   "metadata": {
    "scrolled": true
   },
   "outputs": [
    {
     "data": {
      "text/plain": [
       "Index(['municipio_circunscricao', 'dp_circunscricao ', 'mês estatistica',\n",
       "       'ano estatistica', 'datahora_registro_bo', 'data_fato', 'hora_fato',\n",
       "       'desc_tipolocal', 'idade_pessoa', 'cor_pele', 'profissao'],\n",
       "      dtype='object')"
      ]
     },
     "execution_count": 8,
     "metadata": {},
     "output_type": "execute_result"
    }
   ],
   "source": [
    "df2015.columns.str.lower()"
   ]
  },
  {
   "cell_type": "code",
   "execution_count": 9,
   "id": "7c4ec737",
   "metadata": {},
   "outputs": [],
   "source": [
    "df2015.columns=df2015.columns.str.lower()"
   ]
  },
  {
   "cell_type": "markdown",
   "id": "8745f5d8",
   "metadata": {},
   "source": [
    "Casos ocorridos na cidade de São Paulo em 2015"
   ]
  },
  {
   "cell_type": "code",
   "execution_count": 10,
   "id": "621fc488",
   "metadata": {},
   "outputs": [
    {
     "data": {
      "text/html": [
       "<div>\n",
       "<style scoped>\n",
       "    .dataframe tbody tr th:only-of-type {\n",
       "        vertical-align: middle;\n",
       "    }\n",
       "\n",
       "    .dataframe tbody tr th {\n",
       "        vertical-align: top;\n",
       "    }\n",
       "\n",
       "    .dataframe thead th {\n",
       "        text-align: right;\n",
       "    }\n",
       "</style>\n",
       "<table border=\"1\" class=\"dataframe\">\n",
       "  <thead>\n",
       "    <tr style=\"text-align: right;\">\n",
       "      <th></th>\n",
       "      <th>municipio_circunscricao</th>\n",
       "      <th>dp_circunscricao</th>\n",
       "      <th>mês estatistica</th>\n",
       "      <th>ano estatistica</th>\n",
       "      <th>datahora_registro_bo</th>\n",
       "      <th>data_fato</th>\n",
       "      <th>hora_fato</th>\n",
       "      <th>desc_tipolocal</th>\n",
       "      <th>idade_pessoa</th>\n",
       "      <th>cor_pele</th>\n",
       "      <th>profissao</th>\n",
       "    </tr>\n",
       "  </thead>\n",
       "  <tbody>\n",
       "    <tr>\n",
       "      <th>3</th>\n",
       "      <td>São Paulo</td>\n",
       "      <td>049 DP - São Mateus</td>\n",
       "      <td>4</td>\n",
       "      <td>2015</td>\n",
       "      <td>2015-04-25 00:40:09</td>\n",
       "      <td>2015-04-24</td>\n",
       "      <td>19:49:00</td>\n",
       "      <td>Via pública</td>\n",
       "      <td>17</td>\n",
       "      <td>Branca</td>\n",
       "      <td>ESTUDANTE</td>\n",
       "    </tr>\n",
       "    <tr>\n",
       "      <th>6</th>\n",
       "      <td>São Paulo</td>\n",
       "      <td>055 DP - Parque São Rafael</td>\n",
       "      <td>5</td>\n",
       "      <td>2015</td>\n",
       "      <td>2015-05-16 19:57:57</td>\n",
       "      <td>2015-05-16</td>\n",
       "      <td>14:17:00</td>\n",
       "      <td>Residência</td>\n",
       "      <td>30</td>\n",
       "      <td>Parda</td>\n",
       "      <td>ATENDENTE</td>\n",
       "    </tr>\n",
       "    <tr>\n",
       "      <th>34</th>\n",
       "      <td>São Paulo</td>\n",
       "      <td>032 DP - Itaquera</td>\n",
       "      <td>11</td>\n",
       "      <td>2015</td>\n",
       "      <td>2015-11-28 17:07:48</td>\n",
       "      <td>2015-11-28</td>\n",
       "      <td>DE MADRUGADA</td>\n",
       "      <td>Residência</td>\n",
       "      <td>30</td>\n",
       "      <td>Branca</td>\n",
       "      <td>OPERADOR(A) TELEMARKETING</td>\n",
       "    </tr>\n",
       "    <tr>\n",
       "      <th>35</th>\n",
       "      <td>São Paulo</td>\n",
       "      <td>095 DP - Heliópolis</td>\n",
       "      <td>11</td>\n",
       "      <td>2015</td>\n",
       "      <td>2015-11-04 12:15:35</td>\n",
       "      <td>2015-11-04</td>\n",
       "      <td>10:37:00</td>\n",
       "      <td>Residência</td>\n",
       "      <td>30</td>\n",
       "      <td>Branca</td>\n",
       "      <td>CORRETOR(A) DE IMOVEIS</td>\n",
       "    </tr>\n",
       "    <tr>\n",
       "      <th>39</th>\n",
       "      <td>São Paulo</td>\n",
       "      <td>047 DP - Capão Redondo</td>\n",
       "      <td>12</td>\n",
       "      <td>2015</td>\n",
       "      <td>2015-12-21 12:57:28</td>\n",
       "      <td>2015-12-21</td>\n",
       "      <td>09:40:00</td>\n",
       "      <td>Residência</td>\n",
       "      <td>34</td>\n",
       "      <td>Parda</td>\n",
       "      <td>SECRETARIO(A)</td>\n",
       "    </tr>\n",
       "    <tr>\n",
       "      <th>40</th>\n",
       "      <td>São Paulo</td>\n",
       "      <td>045 DP - Vila Brasilândia</td>\n",
       "      <td>12</td>\n",
       "      <td>2015</td>\n",
       "      <td>2015-12-21 00:53:24</td>\n",
       "      <td>2015-12-20</td>\n",
       "      <td>21:15:00</td>\n",
       "      <td>Residência</td>\n",
       "      <td>38</td>\n",
       "      <td>Branca</td>\n",
       "      <td>EMPREGADO DOMESTICO</td>\n",
       "    </tr>\n",
       "  </tbody>\n",
       "</table>\n",
       "</div>"
      ],
      "text/plain": [
       "   municipio_circunscricao           dp_circunscricao   mês estatistica  \\\n",
       "3                São Paulo         049 DP - São Mateus                4   \n",
       "6                São Paulo  055 DP - Parque São Rafael                5   \n",
       "34               São Paulo           032 DP - Itaquera               11   \n",
       "35               São Paulo         095 DP - Heliópolis               11   \n",
       "39               São Paulo      047 DP - Capão Redondo               12   \n",
       "40               São Paulo   045 DP - Vila Brasilândia               12   \n",
       "\n",
       "    ano estatistica datahora_registro_bo  data_fato     hora_fato  \\\n",
       "3              2015  2015-04-25 00:40:09 2015-04-24      19:49:00   \n",
       "6              2015  2015-05-16 19:57:57 2015-05-16      14:17:00   \n",
       "34             2015  2015-11-28 17:07:48 2015-11-28  DE MADRUGADA   \n",
       "35             2015  2015-11-04 12:15:35 2015-11-04      10:37:00   \n",
       "39             2015  2015-12-21 12:57:28 2015-12-21      09:40:00   \n",
       "40             2015  2015-12-21 00:53:24 2015-12-20      21:15:00   \n",
       "\n",
       "   desc_tipolocal  idade_pessoa cor_pele                  profissao  \n",
       "3     Via pública            17   Branca                  ESTUDANTE  \n",
       "6      Residência            30    Parda                  ATENDENTE  \n",
       "34     Residência            30   Branca  OPERADOR(A) TELEMARKETING  \n",
       "35     Residência            30   Branca     CORRETOR(A) DE IMOVEIS  \n",
       "39     Residência            34    Parda              SECRETARIO(A)  \n",
       "40     Residência            38   Branca        EMPREGADO DOMESTICO  "
      ]
     },
     "execution_count": 10,
     "metadata": {},
     "output_type": "execute_result"
    }
   ],
   "source": [
    "df2015"
   ]
  },
  {
   "cell_type": "markdown",
   "id": "7d59d9c8",
   "metadata": {},
   "source": [
    "Algumas análises dos dados:"
   ]
  },
  {
   "cell_type": "code",
   "execution_count": 11,
   "id": "e8868c3e",
   "metadata": {
    "scrolled": true
   },
   "outputs": [
    {
     "data": {
      "text/plain": [
       "Branca    4\n",
       "Parda     2\n",
       "Name: cor_pele, dtype: int64"
      ]
     },
     "execution_count": 11,
     "metadata": {},
     "output_type": "execute_result"
    }
   ],
   "source": [
    "df2015['cor_pele'].value_counts()"
   ]
  },
  {
   "cell_type": "code",
   "execution_count": 12,
   "id": "3f403aec",
   "metadata": {},
   "outputs": [
    {
     "data": {
      "text/plain": [
       "ESTUDANTE                    1\n",
       "ATENDENTE                    1\n",
       "OPERADOR(A) TELEMARKETING    1\n",
       "CORRETOR(A) DE IMOVEIS       1\n",
       "SECRETARIO(A)                1\n",
       "EMPREGADO DOMESTICO          1\n",
       "Name: profissao, dtype: int64"
      ]
     },
     "execution_count": 12,
     "metadata": {},
     "output_type": "execute_result"
    }
   ],
   "source": [
    "df2015['profissao'].value_counts()"
   ]
  },
  {
   "cell_type": "markdown",
   "id": "79c75a7c",
   "metadata": {},
   "source": [
    "Plotagem de alguns gráficos para visualização de algumas dados sobre os casos de feminicídio ocorridos em 2015."
   ]
  },
  {
   "cell_type": "code",
   "execution_count": 13,
   "id": "42dc49b8",
   "metadata": {
    "scrolled": true
   },
   "outputs": [
    {
     "data": {
      "image/png": "[encoded data removed]",
      "text/plain": [
       "<Figure size 640x480 with 1 Axes>"
      ]
     },
     "metadata": {},
     "output_type": "display_data"
    }
   ],
   "source": [
    "count_local = df2015['desc_tipolocal'].value_counts()\n",
    "count = count_local.values\n",
    "tipo = count_local.index\n",
    "plt.bar(tipo, count)\n",
    "plt.xticks(rotation=45)\n",
    "plt.title('Locais de ocorrência dos casos de Feminícidio - São Paulo/2015')\n",
    "plt.show()"
   ]
  },
  {
   "cell_type": "code",
   "execution_count": 36,
   "id": "68a3ecaf",
   "metadata": {},
   "outputs": [
    {
     "data": {
      "image/png": "[encoded data removed]",
      "text/plain": [
       "<Figure size 640x480 with 1 Axes>"
      ]
     },
     "metadata": {},
     "output_type": "display_data"
    }
   ],
   "source": [
    "count_mes = df2015['mês estatistica'].value_counts()\n",
    "count = count_mes.values\n",
    "tipo = count_mes.index\n",
    "plt.bar(tipo, count)\n",
    "plt.title('Quantidade de casos registrados em cada mês - São Paulo/2015')\n",
    "plt.show()"
   ]
  },
  {
   "cell_type": "markdown",
   "id": "1f54f8aa",
   "metadata": {},
   "source": [
    "Leitura dos dados do ano de 2020"
   ]
  },
  {
   "cell_type": "code",
   "execution_count": 15,
   "id": "e1106359",
   "metadata": {},
   "outputs": [],
   "source": [
    "df2020 = pd.read_excel(\"/home/kassia/UFC/ML/Analise de Dados/Feminicidio_2015_2022.xlsx\", sheet_name=\"2020\")"
   ]
  },
  {
   "cell_type": "markdown",
   "id": "76af188f",
   "metadata": {},
   "source": [
    "Filtragem dos casos ocorridos na cidade de São Paulo"
   ]
  },
  {
   "cell_type": "code",
   "execution_count": 16,
   "id": "636bb755",
   "metadata": {},
   "outputs": [],
   "source": [
    "df2020=df2020[df2020['MUNICIPIO_CIRCUNSCRICAO']==\"São Paulo\"]"
   ]
  },
  {
   "cell_type": "markdown",
   "id": "cf2821ce",
   "metadata": {},
   "source": [
    "Exclusão das colunas que não serão utilizados na análise dos dados"
   ]
  },
  {
   "cell_type": "code",
   "execution_count": 17,
   "id": "764d21b2",
   "metadata": {},
   "outputs": [],
   "source": [
    "df2020 = df2020.drop(columns=['DEPARTAMENTO_CIRCUNSCRICAO','SECCIONAL_CIRCUNSCRICAO','HD','Nº DE VÍT HD','ID_DELEGACIA',\n",
    "                         'NUM_BO','ANO_BO','MUNICIPIO_ELABORACAO','DP_ELABORACAO','SEC_ELABORACAO','DEP_ELABORACAO',\n",
    "                          'LATITUDE','LONGITUDE','TIPO_PESSOA','SEXO_PESSOA','DATA_NASCIMENTO_PESSOA','LOGRADOURO','NUMERO_LOGRADOURO',\n",
    "                          'SEC_ELABORACAO','DEP_ELABORACAO','LOGRADOURO','NUMERO_LOGRADOURO','NATUREZA_APURADA','DESDOBRAMENTO'])"
   ]
  },
  {
   "cell_type": "code",
   "execution_count": 18,
   "id": "6994157a",
   "metadata": {
    "scrolled": true
   },
   "outputs": [
    {
     "data": {
      "text/plain": [
       "Index(['municipio_circunscricao', 'dp_circunscricao ', 'mês estatistica',\n",
       "       'ano estatistica', 'datahora_registro_bo', 'data_fato', 'hora_fato',\n",
       "       'desc_tipolocal', 'idade_pessoa', 'cor_pele', 'profissao'],\n",
       "      dtype='object')"
      ]
     },
     "execution_count": 18,
     "metadata": {},
     "output_type": "execute_result"
    }
   ],
   "source": [
    "df2020.columns.str.lower()"
   ]
  },
  {
   "cell_type": "code",
   "execution_count": 19,
   "id": "74a7ed64",
   "metadata": {},
   "outputs": [],
   "source": [
    "df2020.columns=df2020.columns.str.lower()"
   ]
  },
  {
   "cell_type": "markdown",
   "id": "5578b64b",
   "metadata": {},
   "source": [
    "Casos ocorridos na cidade de São Paulo em 2020. No total, 40 casos foram registrados na cidade de São Paulo no ano de 2020."
   ]
  },
  {
   "cell_type": "code",
   "execution_count": 20,
   "id": "0ffe60e7",
   "metadata": {
    "scrolled": false
   },
   "outputs": [
    {
     "data": {
      "text/html": [
       "<div>\n",
       "<style scoped>\n",
       "    .dataframe tbody tr th:only-of-type {\n",
       "        vertical-align: middle;\n",
       "    }\n",
       "\n",
       "    .dataframe tbody tr th {\n",
       "        vertical-align: top;\n",
       "    }\n",
       "\n",
       "    .dataframe thead th {\n",
       "        text-align: right;\n",
       "    }\n",
       "</style>\n",
       "<table border=\"1\" class=\"dataframe\">\n",
       "  <thead>\n",
       "    <tr style=\"text-align: right;\">\n",
       "      <th></th>\n",
       "      <th>municipio_circunscricao</th>\n",
       "      <th>dp_circunscricao</th>\n",
       "      <th>mês estatistica</th>\n",
       "      <th>ano estatistica</th>\n",
       "      <th>datahora_registro_bo</th>\n",
       "      <th>data_fato</th>\n",
       "      <th>hora_fato</th>\n",
       "      <th>desc_tipolocal</th>\n",
       "      <th>idade_pessoa</th>\n",
       "      <th>cor_pele</th>\n",
       "      <th>profissao</th>\n",
       "    </tr>\n",
       "  </thead>\n",
       "  <tbody>\n",
       "    <tr>\n",
       "      <th>0</th>\n",
       "      <td>São Paulo</td>\n",
       "      <td>045 DP - Vila Brasilândia</td>\n",
       "      <td>1</td>\n",
       "      <td>2020</td>\n",
       "      <td>2020-01-29 00:00:00</td>\n",
       "      <td>2020-01-29</td>\n",
       "      <td>10:55:00</td>\n",
       "      <td>Residência</td>\n",
       "      <td>27.0</td>\n",
       "      <td>Parda</td>\n",
       "      <td>BALCONISTA</td>\n",
       "    </tr>\n",
       "    <tr>\n",
       "      <th>1</th>\n",
       "      <td>São Paulo</td>\n",
       "      <td>074 DP - Jaraguá</td>\n",
       "      <td>1</td>\n",
       "      <td>2020</td>\n",
       "      <td>2020-01-25 00:00:00</td>\n",
       "      <td>2020-01-25</td>\n",
       "      <td>07:00:00</td>\n",
       "      <td>Residência</td>\n",
       "      <td>21.0</td>\n",
       "      <td>Branca</td>\n",
       "      <td>VENDEDOR(A)</td>\n",
       "    </tr>\n",
       "    <tr>\n",
       "      <th>2</th>\n",
       "      <td>São Paulo</td>\n",
       "      <td>100 DP - Jardim Herculano</td>\n",
       "      <td>1</td>\n",
       "      <td>2020</td>\n",
       "      <td>2020-01-04 00:00:00</td>\n",
       "      <td>2020-01-03</td>\n",
       "      <td>23:23:00</td>\n",
       "      <td>Residência</td>\n",
       "      <td>28.0</td>\n",
       "      <td>Branca</td>\n",
       "      <td>AUXILIAR DE ESCRITÓRIO</td>\n",
       "    </tr>\n",
       "    <tr>\n",
       "      <th>3</th>\n",
       "      <td>São Paulo</td>\n",
       "      <td>044 DP - Guaianazes</td>\n",
       "      <td>1</td>\n",
       "      <td>2020</td>\n",
       "      <td>2020-01-13 00:00:00</td>\n",
       "      <td>2020-01-13</td>\n",
       "      <td>14:10:00</td>\n",
       "      <td>Residência</td>\n",
       "      <td>29.0</td>\n",
       "      <td>Parda</td>\n",
       "      <td>NaN</td>\n",
       "    </tr>\n",
       "    <tr>\n",
       "      <th>12</th>\n",
       "      <td>São Paulo</td>\n",
       "      <td>075 DP - Jardim Arpoador</td>\n",
       "      <td>2</td>\n",
       "      <td>2020</td>\n",
       "      <td>2020-02-19 11:44:00</td>\n",
       "      <td>2020-02-19</td>\n",
       "      <td>10:30:00</td>\n",
       "      <td>Residência</td>\n",
       "      <td>32.0</td>\n",
       "      <td>Parda</td>\n",
       "      <td>NaN</td>\n",
       "    </tr>\n",
       "  </tbody>\n",
       "</table>\n",
       "</div>"
      ],
      "text/plain": [
       "   municipio_circunscricao          dp_circunscricao   mês estatistica  \\\n",
       "0                São Paulo  045 DP - Vila Brasilândia                1   \n",
       "1                São Paulo           074 DP - Jaraguá                1   \n",
       "2                São Paulo  100 DP - Jardim Herculano                1   \n",
       "3                São Paulo        044 DP - Guaianazes                1   \n",
       "12               São Paulo   075 DP - Jardim Arpoador                2   \n",
       "\n",
       "    ano estatistica datahora_registro_bo  data_fato hora_fato desc_tipolocal  \\\n",
       "0              2020  2020-01-29 00:00:00 2020-01-29  10:55:00     Residência   \n",
       "1              2020  2020-01-25 00:00:00 2020-01-25  07:00:00     Residência   \n",
       "2              2020  2020-01-04 00:00:00 2020-01-03  23:23:00     Residência   \n",
       "3              2020  2020-01-13 00:00:00 2020-01-13  14:10:00     Residência   \n",
       "12             2020  2020-02-19 11:44:00 2020-02-19  10:30:00     Residência   \n",
       "\n",
       "    idade_pessoa cor_pele               profissao  \n",
       "0           27.0    Parda              BALCONISTA  \n",
       "1           21.0   Branca             VENDEDOR(A)  \n",
       "2           28.0   Branca  AUXILIAR DE ESCRITÓRIO  \n",
       "3           29.0    Parda                     NaN  \n",
       "12          32.0    Parda                     NaN  "
      ]
     },
     "execution_count": 20,
     "metadata": {},
     "output_type": "execute_result"
    }
   ],
   "source": [
    "df2020.head()"
   ]
  },
  {
   "cell_type": "markdown",
   "id": "ad0e08c4",
   "metadata": {},
   "source": [
    "Algumas análises dos dados: "
   ]
  },
  {
   "cell_type": "code",
   "execution_count": 21,
   "id": "b3948dcf",
   "metadata": {},
   "outputs": [
    {
     "data": {
      "text/plain": [
       "Parda       21\n",
       "Branca      14\n",
       "Preta        4\n",
       "Ignorada     1\n",
       "Name: cor_pele, dtype: int64"
      ]
     },
     "execution_count": 21,
     "metadata": {},
     "output_type": "execute_result"
    }
   ],
   "source": [
    "df2020['cor_pele'].value_counts()"
   ]
  },
  {
   "cell_type": "code",
   "execution_count": 22,
   "id": "ae2b0d1a",
   "metadata": {
    "scrolled": true
   },
   "outputs": [
    {
     "data": {
      "text/plain": [
       "NAO INFORMADA                6\n",
       "ESTUDANTE                    4\n",
       "VENDEDOR(A)                  2\n",
       "CABELEIREIRO(A)              2\n",
       "ATENDENTE                    2\n",
       "BALCONISTA                   1\n",
       "AUXILIAR DE ESCRITÓRIO       1\n",
       "OUTROS                       1\n",
       "POLICIAL CIVIL               1\n",
       "FAXINEIRO(A)                 1\n",
       "PROFESSOR(A)                 1\n",
       "RECEPCIONISTA                1\n",
       "OPERADOR(A) TELEMARKETING    1\n",
       "METROVIARIO(A)               1\n",
       "Name: profissao, dtype: int64"
      ]
     },
     "execution_count": 22,
     "metadata": {},
     "output_type": "execute_result"
    }
   ],
   "source": [
    "df2020['profissao'].value_counts()"
   ]
  },
  {
   "cell_type": "markdown",
   "id": "1a7a153c",
   "metadata": {},
   "source": [
    "Plotagem de alguns gráficos para visualização de algumas dados sobre os casos de feminicídio ocorridos em 2020."
   ]
  },
  {
   "cell_type": "code",
   "execution_count": 23,
   "id": "380b1d99",
   "metadata": {},
   "outputs": [
    {
     "data": {
      "image/png": "[encoded data removed]",
      "text/plain": [
       "<Figure size 640x480 with 1 Axes>"
      ]
     },
     "metadata": {},
     "output_type": "display_data"
    }
   ],
   "source": [
    "count_local = df2020['desc_tipolocal'].value_counts()\n",
    "count = count_local.values\n",
    "tipo = count_local.index\n",
    "plt.bar(tipo, count)\n",
    "plt.xticks(rotation=45)\n",
    "plt.title('Locais de ocorrência dos casos de Feminícidio - São Paulo/2020')\n",
    "plt.show()"
   ]
  },
  {
   "cell_type": "code",
   "execution_count": 24,
   "id": "eee70b02",
   "metadata": {},
   "outputs": [
    {
     "data": {
      "image/png": "[encoded data removed]",
      "text/plain": [
       "<Figure size 640x480 with 1 Axes>"
      ]
     },
     "metadata": {},
     "output_type": "display_data"
    }
   ],
   "source": [
    "count_mes = df2020['mês estatistica'].value_counts()\n",
    "count = count_mes.values\n",
    "tipo = count_mes.index\n",
    "plt.bar(tipo, count)\n",
    "plt.title('Quantidade de casos registrados em cada mês - São Paulo/2020')\n",
    "plt.show()"
   ]
  },
  {
   "cell_type": "markdown",
   "id": "41cd4ccf",
   "metadata": {},
   "source": [
    "Leitura dos dados do ano de 2021"
   ]
  },
  {
   "cell_type": "code",
   "execution_count": 25,
   "id": "c86df65f",
   "metadata": {
    "scrolled": true
   },
   "outputs": [],
   "source": [
    "df2021 = pd.read_excel(\"/home/kassia/UFC/ML/Analise de Dados/Feminicidio_2015_2022.xlsx\", sheet_name=\"2021\")"
   ]
  },
  {
   "cell_type": "markdown",
   "id": "f8e91be7",
   "metadata": {},
   "source": [
    "Filtragem dos casos ocorridos na cidade de São Paulo"
   ]
  },
  {
   "cell_type": "code",
   "execution_count": 26,
   "id": "10b0e7bf",
   "metadata": {},
   "outputs": [],
   "source": [
    "df2021=df2021[df2021['MUNICIPIO_CIRCUNSCRICAO']==\"São Paulo\"]"
   ]
  },
  {
   "cell_type": "markdown",
   "id": "ab8f2ee1",
   "metadata": {},
   "source": [
    "Exclusão das colunas que não serão utilizadas na análise dos dados"
   ]
  },
  {
   "cell_type": "code",
   "execution_count": 27,
   "id": "98e3ecf4",
   "metadata": {},
   "outputs": [],
   "source": [
    "df2021 = df2021.drop(columns=['DEPARTAMENTO_CIRCUNSCRICAO','SECCIONAL_CIRCUNSCRICAO','HD','Nº DE VÍT HD','ID_DELEGACIA',\n",
    "                         'NUM_BO','ANO_BO','MUNICIPIO_ELABORACAO','DP_ELABORACAO','SEC_ELABORACAO','DEP_ELABORACAO',\n",
    "                          'LATITUDE','LONGITUDE','TIPO_PESSOA','SEXO_PESSOA','DATA_NASCIMENTO_PESSOA','LOGRADOURO','NUMERO_LOGRADOURO',\n",
    "                          'SEC_ELABORACAO','DEP_ELABORACAO','LOGRADOURO','NUMERO_LOGRADOURO','NATUREZA_APURADA','DESDOBRAMENTO'])"
   ]
  },
  {
   "cell_type": "code",
   "execution_count": 28,
   "id": "d4754419",
   "metadata": {
    "scrolled": true
   },
   "outputs": [
    {
     "data": {
      "text/plain": [
       "Index(['municipio_circunscricao', 'dp_circunscricao ', 'mês estatistica',\n",
       "       'ano estatistica', 'datahora_registro_bo', 'data_fato', 'hora_fato',\n",
       "       'desc_tipolocal', 'idade_pessoa', 'cor_pele', 'profissao'],\n",
       "      dtype='object')"
      ]
     },
     "execution_count": 28,
     "metadata": {},
     "output_type": "execute_result"
    }
   ],
   "source": [
    "df2021.columns.str.lower()"
   ]
  },
  {
   "cell_type": "code",
   "execution_count": 29,
   "id": "ada04c91",
   "metadata": {},
   "outputs": [],
   "source": [
    "df2021.columns=df2021.columns.str.lower()"
   ]
  },
  {
   "cell_type": "markdown",
   "id": "e9ca2f44",
   "metadata": {},
   "source": [
    "Casos ocorridos na cidade de São Paulo em 2021. No total, 33 casos foram registrados na cidade de São Paulo."
   ]
  },
  {
   "cell_type": "code",
   "execution_count": 30,
   "id": "2c8eb902",
   "metadata": {
    "scrolled": true
   },
   "outputs": [
    {
     "data": {
      "text/html": [
       "<div>\n",
       "<style scoped>\n",
       "    .dataframe tbody tr th:only-of-type {\n",
       "        vertical-align: middle;\n",
       "    }\n",
       "\n",
       "    .dataframe tbody tr th {\n",
       "        vertical-align: top;\n",
       "    }\n",
       "\n",
       "    .dataframe thead th {\n",
       "        text-align: right;\n",
       "    }\n",
       "</style>\n",
       "<table border=\"1\" class=\"dataframe\">\n",
       "  <thead>\n",
       "    <tr style=\"text-align: right;\">\n",
       "      <th></th>\n",
       "      <th>municipio_circunscricao</th>\n",
       "      <th>dp_circunscricao</th>\n",
       "      <th>mês estatistica</th>\n",
       "      <th>ano estatistica</th>\n",
       "      <th>datahora_registro_bo</th>\n",
       "      <th>data_fato</th>\n",
       "      <th>hora_fato</th>\n",
       "      <th>desc_tipolocal</th>\n",
       "      <th>idade_pessoa</th>\n",
       "      <th>cor_pele</th>\n",
       "      <th>profissao</th>\n",
       "    </tr>\n",
       "  </thead>\n",
       "  <tbody>\n",
       "    <tr>\n",
       "      <th>0</th>\n",
       "      <td>São Paulo</td>\n",
       "      <td>023 DP - Perdizes</td>\n",
       "      <td>1</td>\n",
       "      <td>2021</td>\n",
       "      <td>2021-01-01</td>\n",
       "      <td>2021-01-01</td>\n",
       "      <td>04:42:00</td>\n",
       "      <td>Hospedagem</td>\n",
       "      <td>35</td>\n",
       "      <td>Parda</td>\n",
       "      <td>NAO INFORMADA</td>\n",
       "    </tr>\n",
       "    <tr>\n",
       "      <th>1</th>\n",
       "      <td>São Paulo</td>\n",
       "      <td>080 DP - Vila Joaniza</td>\n",
       "      <td>1</td>\n",
       "      <td>2021</td>\n",
       "      <td>2021-01-03</td>\n",
       "      <td>2021-01-02</td>\n",
       "      <td>21:33:00</td>\n",
       "      <td>Residência</td>\n",
       "      <td>26</td>\n",
       "      <td>Branca</td>\n",
       "      <td>ESTUDANTE</td>\n",
       "    </tr>\n",
       "    <tr>\n",
       "      <th>2</th>\n",
       "      <td>São Paulo</td>\n",
       "      <td>098 DP - Jardim Míriam</td>\n",
       "      <td>1</td>\n",
       "      <td>2021</td>\n",
       "      <td>2021-01-02</td>\n",
       "      <td>2021-01-02</td>\n",
       "      <td>11:24:00</td>\n",
       "      <td>Residência</td>\n",
       "      <td>21</td>\n",
       "      <td>Parda</td>\n",
       "      <td>PRENDAS DOMESTICAS</td>\n",
       "    </tr>\n",
       "    <tr>\n",
       "      <th>11</th>\n",
       "      <td>São Paulo</td>\n",
       "      <td>028 DP - Freguesia do Ó</td>\n",
       "      <td>2</td>\n",
       "      <td>2021</td>\n",
       "      <td>2021-02-01</td>\n",
       "      <td>2021-02-01</td>\n",
       "      <td>03:27:00</td>\n",
       "      <td>Via pública</td>\n",
       "      <td>30</td>\n",
       "      <td>Parda</td>\n",
       "      <td>DESEMPREGADO(A)</td>\n",
       "    </tr>\n",
       "    <tr>\n",
       "      <th>12</th>\n",
       "      <td>São Paulo</td>\n",
       "      <td>073 DP - Jaçanã</td>\n",
       "      <td>2</td>\n",
       "      <td>2021</td>\n",
       "      <td>2021-02-20</td>\n",
       "      <td>2021-02-20</td>\n",
       "      <td>01:30:00</td>\n",
       "      <td>Residência</td>\n",
       "      <td>29</td>\n",
       "      <td>Branca</td>\n",
       "      <td>EMPREGADO DOMESTICO</td>\n",
       "    </tr>\n",
       "  </tbody>\n",
       "</table>\n",
       "</div>"
      ],
      "text/plain": [
       "   municipio_circunscricao        dp_circunscricao   mês estatistica  \\\n",
       "0                São Paulo        023 DP - Perdizes                1   \n",
       "1                São Paulo    080 DP - Vila Joaniza                1   \n",
       "2                São Paulo   098 DP - Jardim Míriam                1   \n",
       "11               São Paulo  028 DP - Freguesia do Ó                2   \n",
       "12               São Paulo          073 DP - Jaçanã                2   \n",
       "\n",
       "    ano estatistica datahora_registro_bo  data_fato hora_fato desc_tipolocal  \\\n",
       "0              2021           2021-01-01 2021-01-01  04:42:00     Hospedagem   \n",
       "1              2021           2021-01-03 2021-01-02  21:33:00     Residência   \n",
       "2              2021           2021-01-02 2021-01-02  11:24:00     Residência   \n",
       "11             2021           2021-02-01 2021-02-01  03:27:00    Via pública   \n",
       "12             2021           2021-02-20 2021-02-20  01:30:00     Residência   \n",
       "\n",
       "    idade_pessoa cor_pele            profissao  \n",
       "0             35    Parda        NAO INFORMADA  \n",
       "1             26   Branca            ESTUDANTE  \n",
       "2             21    Parda   PRENDAS DOMESTICAS  \n",
       "11            30    Parda      DESEMPREGADO(A)  \n",
       "12            29   Branca  EMPREGADO DOMESTICO  "
      ]
     },
     "execution_count": 30,
     "metadata": {},
     "output_type": "execute_result"
    }
   ],
   "source": [
    "df2021.head()"
   ]
  },
  {
   "cell_type": "markdown",
   "id": "55f122b7",
   "metadata": {},
   "source": [
    "Análise de alguns dados:"
   ]
  },
  {
   "cell_type": "code",
   "execution_count": 33,
   "id": "397e9218",
   "metadata": {},
   "outputs": [
    {
     "data": {
      "text/plain": [
       "Parda       17\n",
       "Branca      11\n",
       "Preta        4\n",
       "Ignorada     1\n",
       "Name: cor_pele, dtype: int64"
      ]
     },
     "execution_count": 33,
     "metadata": {},
     "output_type": "execute_result"
    }
   ],
   "source": [
    "df2021['cor_pele'].value_counts()"
   ]
  },
  {
   "cell_type": "code",
   "execution_count": 34,
   "id": "f0989f9a",
   "metadata": {},
   "outputs": [
    {
     "data": {
      "text/plain": [
       "NAO INFORMADA          5\n",
       "ESTUDANTE              3\n",
       "PRENDAS DOMESTICAS     3\n",
       "DESEMPREGADO(A)        2\n",
       "EMPREGADO DOMESTICO    2\n",
       "MANICURE               2\n",
       "ATENDENTE              1\n",
       "APOSENTADO(A)          1\n",
       "CABELEIREIRO(A)        1\n",
       "RECEPCIONISTA          1\n",
       "ARTESAO(A)             1\n",
       "BABÁ                   1\n",
       "AUXILIAR DE LIMPEZA    1\n",
       "Name: profissao, dtype: int64"
      ]
     },
     "execution_count": 34,
     "metadata": {},
     "output_type": "execute_result"
    }
   ],
   "source": [
    "df2021['profissao'].value_counts()"
   ]
  },
  {
   "cell_type": "markdown",
   "id": "ada9b41d",
   "metadata": {},
   "source": [
    "Plotagem de alguns gráficos para visualização de algumas dados sobre os casos de feminicídio ocorridos em 2021."
   ]
  },
  {
   "cell_type": "code",
   "execution_count": 35,
   "id": "e316ded9",
   "metadata": {},
   "outputs": [
    {
     "data": {
      "image/png": "[encoded data removed]",
      "text/plain": [
       "<Figure size 640x480 with 1 Axes>"
      ]
     },
     "metadata": {},
     "output_type": "display_data"
    }
   ],
   "source": [
    "count_local = df2021['desc_tipolocal'].value_counts()\n",
    "count = count_local.values\n",
    "tipo = count_local.index\n",
    "plt.bar(tipo, count)\n",
    "plt.xticks(rotation=45)\n",
    "plt.title('Locais de ocorrência dos casos de Feminícidio - São Paulo/2021')\n",
    "plt.show()"
   ]
  },
  {
   "cell_type": "code",
   "execution_count": 59,
   "id": "2f629665",
   "metadata": {},
   "outputs": [
    {
     "data": {
      "image/png": "[encoded data removed]",
      "text/plain": [
       "<Figure size 640x480 with 1 Axes>"
      ]
     },
     "metadata": {},
     "output_type": "display_data"
    }
   ],
   "source": [
    "count_mes = df2021['mês estatistica'].value_counts()\n",
    "count = count_mes.values\n",
    "tipo = count_mes.index\n",
    "plt.bar(tipo, count)\n",
    "plt.title('Quantidade de casos registrados em cada mês - São Paulo/2021')\n",
    "plt.show()"
   ]
  }
 ],
 "metadata": {
  "kernelspec": {
   "display_name": "Python 3 (ipykernel)",
   "language": "python",
   "name": "python3"
  },
  "language_info": {
   "codemirror_mode": {
    "name": "ipython",
    "version": 3
   },
   "file_extension": ".py",
   "mimetype": "text/x-python",
   "name": "python",
   "nbconvert_exporter": "python",
   "pygments_lexer": "ipython3",
   "version": "3.9.13"
  }
 },
 "nbformat": 4,
 "nbformat_minor": 5
}
